{
 "cells": [
  {
   "cell_type": "code",
   "execution_count": 1,
   "metadata": {
    "collapsed": true
   },
   "outputs": [],
   "source": [
    "import pandas as pd\n",
    "import numpy as np\n",
    "import glob\n",
    "import os\n",
    "import csv\n",
    "from scipy import stats\n",
    "import matplotlib.pyplot as plt"
   ]
  },
  {
   "cell_type": "code",
   "execution_count": 2,
   "metadata": {
    "collapsed": true
   },
   "outputs": [],
   "source": [
    "#create accuracy files\n",
    "path_to_scorelogs = '..\\\\experiments\\\\08_round\\\\evaluation\\\\scores\\\\'\n",
    "\n",
    "row=0\n",
    "df = pd.DataFrame()\n",
    "for filepath in glob.glob(path_to_scorelogs + '*'):\n",
    "    #get change points    \n",
    "    score_file = filepath.split(path_to_scorelogs)[1]\n",
    "    if 'DBSCAN' in score_file:\n",
    "        clusterAlg = 'DBSCAN'\n",
    "        filename = score_file.split('_DBSCAN')[0]\n",
    "        df.loc[row, 'Cluster Alg'] = clusterAlg\n",
    "    elif 'COREQ' in score_file:\n",
    "        clusterAlg = 'COREQ'\n",
    "        filename = score_file.split('_COREQ')[0]\n",
    "        df.loc[row, 'Cluster Alg'] = clusterAlg\n",
    "    eps = score_file.split('_eps')[1]\n",
    "    df.loc[row,'Eps'] = eps.split('000_\\'2000')[0]\n",
    "    tstep = score_file.split('ts')[1]\n",
    "    df.loc[row, 'time step'] = int(tstep.split('_eps')[0])\n",
    "    wnd = score_file.split('_w')[1]\n",
    "    df.loc[row, 'Window'] = int(wnd.split('_ts')[0])\n",
    "    \n",
    "    corrCoef = score_file.split('_dist')[1]\n",
    "    df.loc[row, 'dist change'] = corrCoef[0:3]\n",
    "    \n",
    "    datafile = filename.split('scores_')[1]\n",
    "    df.loc[row, 'Filename'] = datafile\n",
    "    noise = filename.split('noise')[1]\n",
    "    df.loc[row, 'Noise'] = noise.split('_dist')[0]\n",
    "    df.loc[row, 'Ncluster'] = pd.read_csv(filepath)['Ncluster'].mean()\n",
    "    row +=1\n"
   ]
  },
  {
   "cell_type": "code",
   "execution_count": 3,
   "metadata": {},
   "outputs": [
    {
     "name": "stdout",
     "output_type": "stream",
     "text": [
      "\\begin{tabular}{lr}\n",
      "\\toprule\n",
      "{} &  Ncluster \\\\\n",
      "Eps  &           \\\\\n",
      "\\midrule\n",
      "0.60 &    999.25 \\\\\n",
      "0.65 &    975.36 \\\\\n",
      "0.70 &    763.65 \\\\\n",
      "0.73 &    490.15 \\\\\n",
      "0.75 &    309.78 \\\\\n",
      "0.80 &     81.63 \\\\\n",
      "0.85 &     40.66 \\\\\n",
      "0.90 &     32.38 \\\\\n",
      "0.95 &      1.01 \\\\\n",
      "\\bottomrule\n",
      "\\end{tabular}\n",
      "\n"
     ]
    },
    {
     "name": "stderr",
     "output_type": "stream",
     "text": [
      "c:\\users\\alexa\\appdata\\local\\conda\\conda\\envs\\thesis\\lib\\site-packages\\ipykernel_launcher.py:1: UserWarning: Boolean Series key will be reindexed to match DataFrame index.\n",
      "  \"\"\"Entry point for launching an IPython kernel.\n"
     ]
    }
   ],
   "source": [
    "print(df[df['Cluster Alg']=='DBSCAN'][df['dist change']=='0.5'][df['Noise']=='0.8'].groupby(['Eps']).mean().round(2).drop(['time step', 'Window'], axis=1).to_latex())"
   ]
  },
  {
   "cell_type": "code",
   "execution_count": null,
   "metadata": {
    "collapsed": true
   },
   "outputs": [],
   "source": []
  }
 ],
 "metadata": {
  "kernelspec": {
   "display_name": "thesis",
   "language": "python",
   "name": "thesis"
  },
  "language_info": {
   "codemirror_mode": {
    "name": "ipython",
    "version": 3
   },
   "file_extension": ".py",
   "mimetype": "text/x-python",
   "name": "python",
   "nbconvert_exporter": "python",
   "pygments_lexer": "ipython3",
   "version": "3.6.5"
  }
 },
 "nbformat": 4,
 "nbformat_minor": 2
}
